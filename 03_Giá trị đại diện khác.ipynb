{
 "cells": [
  {
   "cell_type": "markdown",
   "metadata": {},
   "source": [
    "# Bài 3: Giá trị đại diện khác \n",
    "\n"
   ]
  },
  {
   "cell_type": "markdown",
   "metadata": {},
   "source": [
    "## 3.1 Giá trị trung vị, giá trị giữa"
   ]
  },
  {
   "cell_type": "code",
   "execution_count": 4,
   "metadata": {},
   "outputs": [
    {
     "name": "stdout",
     "output_type": "stream",
     "text": [
      "Gia tri trung binh: 22.2\n",
      "Gia tri trung vi  : 3.0\n"
     ]
    }
   ],
   "source": [
    "import numpy as np \n",
    "\n",
    "arr = np.array([1,2,3,5,100])\n",
    "\n",
    "x = np.mean(arr)\n",
    "y = np.median(arr)\n",
    "\n",
    "print( f\"Gia tri trung binh: {x}\")\n",
    "print( f\"Gia tri trung vi  : {y}\") "
   ]
  },
  {
   "cell_type": "markdown",
   "metadata": {},
   "source": [
    "Sự khác nhau giữa giá trị trung bình và giá trị trung vị: \n",
    "- Giá trị trung bình sẽ dễ bị ảnh hưởng bởi các giá trị ngoại lai trong dữ liệu vì nó tính toán dựa trên tổng của các giá trị, trung vị sẽ ít bị ảnh hưởng bởi các giá trị ngoại lai"
   ]
  },
  {
   "cell_type": "markdown",
   "metadata": {},
   "source": [
    "## 3.2 Giá trị xuất hiện nhiều lần nhất\n",
    "\n"
   ]
  },
  {
   "cell_type": "markdown",
   "metadata": {},
   "source": [
    "Giá trị có mật độ xuất hiện nhiều lần nhất\n",
    "\n",
    "Sử dụng **scipy.stats.mode()**"
   ]
  },
  {
   "cell_type": "code",
   "execution_count": 6,
   "metadata": {},
   "outputs": [
    {
     "name": "stdout",
     "output_type": "stream",
     "text": [
      "2 xuat hien 7 lan\n"
     ]
    }
   ],
   "source": [
    "from scipy import stats \n",
    "\n",
    "mode , count = stats.mode([1,2,3,4,2,1,2,3,1,2,3,2,2,2])\n",
    "\n",
    "print( f\"{mode} xuat hien {count} lan\")\n",
    "\n"
   ]
  },
  {
   "cell_type": "markdown",
   "metadata": {},
   "source": [
    "Sử dụng mode() với ma trận hai chiều \n",
    "\n",
    "axit = 0 : tìm giá trị xuất hiện nhiều lần nhất theo cột \n",
    "\n",
    "axit = 1 : tìm giá trị xuất hiện nhiều lần nhất theo hàng "
   ]
  },
  {
   "cell_type": "code",
   "execution_count": 9,
   "metadata": {},
   "outputs": [
    {
     "name": "stdout",
     "output_type": "stream",
     "text": [
      "[1 3 2 4]\n",
      "[2 2 1 2]\n"
     ]
    }
   ],
   "source": [
    "from scipy import stats \n",
    "import numpy as np \n",
    "\n",
    "arr = np.array([[1,2,3,4],\n",
    "               [1,3,2,4],\n",
    "               [5,3,6,2]])\n",
    "\n",
    "mode, count = stats.mode(arr,axis=0) \n",
    "\n",
    "print(mode)\n",
    "print(count)"
   ]
  },
  {
   "cell_type": "markdown",
   "metadata": {},
   "source": [
    "# 3.3 Tổng kết "
   ]
  },
  {
   "cell_type": "markdown",
   "metadata": {},
   "source": [
    "\n",
    "- Giá trị trung vị là giá trị nằm ở trung tâm trong dữ liệu sau khi đã được sắp xếp tuần tự từ nhỏ đến lớn.\n",
    "- Giá trị trung vị ít bị ảnh hưởng bởi giá trị nhiễu nằm xa vùng phân bố của dữ liệu. Đây là điểm nổi trội so với giá trị trung bình.\n",
    "- Tối tần trị là giá trị xuất hiện nhiều lần nhất trong dữ liệu."
   ]
  }
 ],
 "metadata": {
  "kernelspec": {
   "display_name": "env",
   "language": "python",
   "name": "python3"
  },
  "language_info": {
   "codemirror_mode": {
    "name": "ipython",
    "version": 3
   },
   "file_extension": ".py",
   "mimetype": "text/x-python",
   "name": "python",
   "nbconvert_exporter": "python",
   "pygments_lexer": "ipython3",
   "version": "3.10.12"
  }
 },
 "nbformat": 4,
 "nbformat_minor": 2
}
