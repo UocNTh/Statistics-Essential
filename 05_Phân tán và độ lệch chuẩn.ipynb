{
 "cells": [
  {
   "cell_type": "markdown",
   "metadata": {},
   "source": [
    "# Bài 5: Nhất định hiểu về phân tán và độ lệch chuẩn "
   ]
  },
  {
   "cell_type": "markdown",
   "metadata": {},
   "source": [
    "Ở bài 4 đã đề cập đến khái niệm phạm vi và độ lệch phần tư QD và phạm vi phần tư IQR. Khuyết điểm là không được sử dụng trong tính toán về chỉ số của toàn bộ dữ liệu "
   ]
  },
  {
   "cell_type": "markdown",
   "metadata": {},
   "source": [
    "## 5.1 Độ lệch trung bình \n",
    "\n"
   ]
  },
  {
   "cell_type": "markdown",
   "metadata": {},
   "source": [
    "Sử dụng trung bình cộng của giá trị tuyệt đối thiên sai từ các điểm dữ liệu tới giá trị trung bình để biểu diễn mức độ phân tán của dữ liệu. Giá trị này gọi là **độ lệch trung bình (mean deviation)**\n",
    "\n",
    "![m](https://github.com/toe25/Image/blob/main/Statistics%20Essential/Screenshot%20from%202023-12-09%2017-16-32.png?raw=true) "
   ]
  },
  {
   "cell_type": "markdown",
   "metadata": {},
   "source": [
    "- Nếu dữ liệu nằm rải rác, giá trị tuyệt đối của độ lệch sẽ lớn do đó MD sẽ lớn, và ngược lại \n",
    "\n",
    "- Khi toàn bộ dữ liệu bằng nhau thì MD = 0\n",
    "  "
   ]
  },
  {
   "cell_type": "markdown",
   "metadata": {},
   "source": [
    "Note: Trong thống kê, thường tránh sử dụng giá trị tuyệt đối. (Do việc tính toán giá trị âm hay dương làm cho phép toàn thay đổi). Để khắc phục điều này? Thực hiện lũy thừa bậc 2 (bình phương), khi đó giá trị âm sẽ trở thành giá trị dương mà không cần giá trụ tuyệt đối"
   ]
  },
  {
   "cell_type": "markdown",
   "metadata": {},
   "source": [
    "## 5.2 Phân tán và độ lệch chuẩn "
   ]
  },
  {
   "cell_type": "markdown",
   "metadata": {},
   "source": [
    "Phân tán (Phương sai) là bình phương độ lệch \n",
    "\n",
    "![m](https://github.com/toe25/Image/blob/main/Statistics%20Essential/Screenshot%20from%202023-12-09%2017-26-18.png?raw=true) "
   ]
  },
  {
   "cell_type": "markdown",
   "metadata": {},
   "source": [
    "Độ lệch chuẩn là căn bậc hai của phương sai\n",
    "\n",
    "![m](https://github.com/toe25/Image/blob/main/Statistics%20Essential/Screenshot%20from%202023-12-09%2017-29-23.png?raw=true) "
   ]
  }
 ],
 "metadata": {
  "language_info": {
   "name": "python"
  }
 },
 "nbformat": 4,
 "nbformat_minor": 2
}
