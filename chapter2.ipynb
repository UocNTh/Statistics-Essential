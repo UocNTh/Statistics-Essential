{
 "cells": [
  {
   "attachments": {},
   "cell_type": "markdown",
   "metadata": {},
   "source": [
    "# Bài 2: Giá trị đại diện \n",
    "\n",
    "### Overview\n",
    "\n",
    "- Giá trị đại diện \n",
    "- Trung bình số học \n",
    "- Trung bình hình học \n",
    "- Trung bình điều hòa \n",
    "- Tính chất quan trọng của giá trị trung bình cộng \n",
    "- Tổng kết "
   ]
  },
  {
   "attachments": {},
   "cell_type": "markdown",
   "metadata": {},
   "source": [
    "**2.1 Giá trị đại diện của dữ liệu** "
   ]
  },
  {
   "attachments": {},
   "cell_type": "markdown",
   "metadata": {},
   "source": [
    "- Là giá trị được sử dụng để giải thích ý nghĩa của dữ liệu\n"
   ]
  },
  {
   "attachments": {},
   "cell_type": "markdown",
   "metadata": {},
   "source": [
    "**2.2 Trung bình số học thường được biết đến là gì? (Trung bình cộng)**"
   ]
  },
  {
   "attachments": {},
   "cell_type": "markdown",
   "metadata": {},
   "source": [
    "- Để tính toán **giá trị trung bình**, sử dụng thư viện **numpy**"
   ]
  },
  {
   "cell_type": "code",
   "execution_count": 8,
   "metadata": {},
   "outputs": [
    {
     "data": {
      "text/plain": [
       "200.0"
      ]
     },
     "execution_count": 8,
     "metadata": {},
     "output_type": "execute_result"
    }
   ],
   "source": [
    "import numpy as np \n",
    "apple_weights = [100,150,200,250,300]\n",
    "np.mean(apple_weights) "
   ]
  },
  {
   "attachments": {},
   "cell_type": "markdown",
   "metadata": {},
   "source": [
    "**2.3 Sử dụng tỷ suất (trung bình hình học)**"
   ]
  },
  {
   "attachments": {},
   "cell_type": "markdown",
   "metadata": {},
   "source": [
    "- Tính giá trị trung bình hình học (geometric mean) bằng Python: Sử dụng module **stats** trong **Scipy**"
   ]
  },
  {
   "cell_type": "code",
   "execution_count": 9,
   "metadata": {},
   "outputs": [
    {
     "name": "stdout",
     "output_type": "stream",
     "text": [
      "1.1450956868476592\n"
     ]
    }
   ],
   "source": [
    "from scipy import stats \n",
    "x = [1.05 , 1.1 , 1.3] \n",
    "print(stats.gmean(x)) "
   ]
  },
  {
   "attachments": {},
   "cell_type": "markdown",
   "metadata": {},
   "source": [
    "--> Thường sử dụng để tính tỷ suất tăng lương"
   ]
  },
  {
   "attachments": {},
   "cell_type": "markdown",
   "metadata": {},
   "source": [
    "**2.4 Trung bình điều hòa** (harmonic mean)\n",
    "\n",
    "- Tên khác: Ngịch đảo của trung bình nghịch đảo \n",
    "\n",
    "\n"
   ]
  },
  {
   "cell_type": "code",
   "execution_count": 10,
   "metadata": {},
   "outputs": [
    {
     "name": "stdout",
     "output_type": "stream",
     "text": [
      "30.0\n"
     ]
    }
   ],
   "source": [
    "from scipy import stats\n",
    "v = [20,60] \n",
    "print(stats.hmean(v)) "
   ]
  },
  {
   "attachments": {},
   "cell_type": "markdown",
   "metadata": {},
   "source": [
    "-->  Ít sử dụng đến \n",
    "\n",
    "**2.5  Tính chất quan trọng của giá trị trung bình** \n",
    "\n",
    "\n",
    "\n",
    "Hai tính chất quan trọng \n",
    "\n",
    "- Tổng độ lệch (sai khác) từ các điểm dữ liệu đến giá trị trung bình cộng là 0 \n",
    "\n",
    "- Tổng các bình phương của độ lệch từ các điểm dữ liệu tới giá trị trung bình là giá trị nhỏ nhất\n",
    "    "
   ]
  },
  {
   "attachments": {},
   "cell_type": "markdown",
   "metadata": {},
   "source": [
    "**2.6 Tổng kết** \n",
    "\n",
    "- Giá trị đại diện là giá trị đại diện cho dữ liệu. Chỉ một giá trị được sử dụng để đánh giá bản chất của toàn bộ dữ liệu.\n",
    "\n",
    "- Trung bình là một trong những chỉ số thường được sử dụng làm giá trị đại diện.\n",
    "\n",
    "- Chú ý rằng giá trị trung bình hình học được sử dụng trong trường hợp giá trị dữ liệu là tỷ suất.\n",
    "\n",
    "- Để tính giá trị trung bình hình học ta dùng scipy.stats.gmean(), và để tính giá trị trung bình điều hòa ta sử dụng scipy.stats.hmean() .\n",
    "\n",
    "- Tổng độ lệch từ các điểm dữ liệu tới giá trị trung bình cộng là 0.\n",
    "\n",
    "- Giá trị trung bình cộng là giá trị mà tại đó tổng các bình phương của độ lệch từ các điểm dữ liệu tới nó là nhỏ nhất.\n"
   ]
  }
 ],
 "metadata": {
  "kernelspec": {
   "display_name": "env",
   "language": "python",
   "name": "python3"
  },
  "language_info": {
   "codemirror_mode": {
    "name": "ipython",
    "version": 3
   },
   "file_extension": ".py",
   "mimetype": "text/x-python",
   "name": "python",
   "nbconvert_exporter": "python",
   "pygments_lexer": "ipython3",
   "version": "3.8.10"
  },
  "orig_nbformat": 4,
  "vscode": {
   "interpreter": {
    "hash": "3065c01bf47acf20665fa5267640690b42bc018f26840726987591d07b830906"
   }
  }
 },
 "nbformat": 4,
 "nbformat_minor": 2
}
