{
 "cells": [
  {
   "cell_type": "markdown",
   "metadata": {},
   "source": [
    "# Bài 4: Mức độ phân tán\n"
   ]
  },
  {
   "cell_type": "markdown",
   "metadata": {},
   "source": [
    "Giải sử trong trường hợp chúng ta có cân nặng của 5 người, trong đó có cả trẻ con và người lớn, thì không thể nào có thể sử dụng giá trị trung bình đánh giá được tính chất của toàn bộ dữ liệu. Những trường hợp như thế, đối với những dữ liệu có sự chênh lệch lớn thì chúng ta cần sử dụng một chỉ số mà qua đó có thể đánh giá được độ phân bộ của dữ liệu, cùng với các giá trị đại diện qua đó đánh giá đúng đăn tính cất của toàn bộ dữ liệu. Trong bài 4, chúng ta sẽ biết đến khái niệm **độ phân tán** để biểu thị mức độ phân tán của dữ liệu"
   ]
  },
  {
   "cell_type": "markdown",
   "metadata": {},
   "source": [
    "## 4.1 Phạm vi của giá trị "
   ]
  },
  {
   "cell_type": "markdown",
   "metadata": {},
   "source": [
    "5 con chó: 10kg, 13kg, 17kg, 20kg, 29kg\n",
    "\n",
    "\"Trọng lượng trung bình là 17.8kg\" --> Nếu chỉ dựa vào chỉ số này thì không thể nào miêu tả được toàn bộ dữ liệu \n",
    "\n",
    "\"Trọng lượng trùng bình là 17.8kg, và trong phạm vi từ 10kg đến 29kg\" --> Người nghe hình dung ra được mức độ phân tán của dữ liệu \n",
    "\n",
    "- Độ phân tán của dữ liệu có thể biểu thị bằng **Giá trị nhỏ nhất - Giá trị lớn nhất**. Giá trị này gọi là **phạm vi**\n",
    "\n",
    "VD: \"Giá trị trung bình là 17.8kg và có phạm vi là 19kg\". Tuy nhiên trong dữ liệu còn có những giá trị gây nhiễu"
   ]
  },
  {
   "cell_type": "markdown",
   "metadata": {},
   "source": [
    "## 4.2 Phạm vi sử dụng phần tử và độ chênh lệch phần tư "
   ]
  },
  {
   "cell_type": "markdown",
   "metadata": {},
   "source": [
    "Dữ liệu được sắp xếp theo chiều tăng dần, chia thành 4 phần bằng nhau dựa theo ba cột mốc Q1, Q2, Q3. Được gọi là **vị trí phần tư** \n"
   ]
  },
  {
   "cell_type": "markdown",
   "metadata": {},
   "source": [
    "![m](https://github.com/toe25/Image/blob/main/Statistics%20Essential/Screenshot%20from%202023-12-09%2011-27-06.png?raw=true)\n"
   ]
  },
  {
   "cell_type": "markdown",
   "metadata": {},
   "source": [
    "- Đầu tiên, tìm giá trị trung vị , chia làm 2 nửa: nửa trước và nửa sau \n",
    "- Tại 2 nữa này, tiếp tục tìm trung vị "
   ]
  },
  {
   "cell_type": "markdown",
   "metadata": {},
   "source": [
    "Q3 - Q1: phạm vi phần từ (IQR)\n",
    "\n",
    "(Q3-Q1)/2: thiên sai phân tử hay độ lệnh phần tư (QD) "
   ]
  },
  {
   "cell_type": "code",
   "execution_count": 3,
   "metadata": {},
   "outputs": [
    {
     "name": "stdout",
     "output_type": "stream",
     "text": [
      "IQR : 22.0 \n",
      "QD: 11.0 \n"
     ]
    },
    {
     "data": {
      "image/png": "[encoded data removed]",
      "text/plain": [
       "<Figure size 640x480 with 1 Axes>"
      ]
     },
     "metadata": {},
     "output_type": "display_data"
    }
   ],
   "source": [
    "from scipy import stats \n",
    "import matplotlib.pyplot as plt \n",
    "\n",
    "data = [ 33 , 35 , 36 , 39 , 43 , 49 , 51 , 54 , 54 , 56 , 62 , 64 , 64 , 69 , 70 ]\n",
    "\n",
    "iqr = stats.iqr(data) \n",
    "\n",
    "qd = iqr/2 \n",
    "\n",
    "print ( 'IQR : {} ' . format ( iqr ) )\n",
    "print ( 'QD: {} '. format ( qd ) )\n",
    "\n",
    "plt . boxplot ( data )\n",
    "plt . show ( )"
   ]
  },
  {
   "cell_type": "markdown",
   "metadata": {},
   "source": [
    "## 4.3 Điểm hạn chết cuat phạm vi và phạm vi phần tư \n",
    "\n",
    "Phạm vi có nhược điểm mang tính quyết định là dễ bị ảnh hưởng bởi các yếu tố ngoại lệ, các dữ liệu gây nhiễu sẽ làm cho phạm vi không phản ánh chính xác bản chất của dữ liệu, nhưng phạm vi phần tư và độ lệch giữa các phần tư mặc dù được hiểu là nơi mà dữ liệu phân tán tập trung nhất ở đó cũng không đủ để mô tả mức độ phân tán dữ liệu vì\n",
    "không phải tất cả dữ liệu đều được sử dụng ở đây"
   ]
  }
 ],
 "metadata": {
  "kernelspec": {
   "display_name": "env",
   "language": "python",
   "name": "python3"
  },
  "language_info": {
   "codemirror_mode": {
    "name": "ipython",
    "version": 3
   },
   "file_extension": ".py",
   "mimetype": "text/x-python",
   "name": "python",
   "nbconvert_exporter": "python",
   "pygments_lexer": "ipython3",
   "version": "3.10.12"
  }
 },
 "nbformat": 4,
 "nbformat_minor": 2
}
